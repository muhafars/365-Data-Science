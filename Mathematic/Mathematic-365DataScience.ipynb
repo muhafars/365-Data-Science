{
  "nbformat": 4,
  "nbformat_minor": 0,
  "metadata": {
    "colab": {
      "provenance": []
    },
    "kernelspec": {
      "name": "python3",
      "display_name": "Python 3"
    },
    "language_info": {
      "name": "python"
    }
  },
  "cells": [
    {
      "cell_type": "markdown",
      "source": [
        "# Math @365 Data Science"
      ],
      "metadata": {
        "id": "BnuzKBZwjPsZ"
      }
    },
    {
      "cell_type": "markdown",
      "source": [
        "print(<param>)\n",
        "= Use for print out\n",
        "\n",
        "type(<param>)\n",
        "= Use for check **Data Type**\n",
        "\n",
        ".shape\n",
        "= Use for find *Data Shape* **Column and Row Matrices**\n",
        "\n",
        ".reshape\n",
        "= Use for change shape of some variable\n"
      ],
      "metadata": {
        "id": "6nfLkVzPmjs_"
      }
    },
    {
      "cell_type": "markdown",
      "source": [
        "## Scalars\n",
        "scalar is 1 element\n",
        "### ***1x1***"
      ],
      "metadata": {
        "id": "LiSpTluZjdgM"
      }
    },
    {
      "cell_type": "code",
      "source": [
        "s=5\n",
        "print(s,'\\n'\n",
        "      ,type(s))\n"
      ],
      "metadata": {
        "colab": {
          "base_uri": "https://localhost:8080/"
        },
        "id": "P1AsQCbajvti",
        "outputId": "cd9516d5-72b5-47b7-8ce4-986ac0c43f35"
      },
      "execution_count": 12,
      "outputs": [
        {
          "output_type": "stream",
          "name": "stdout",
          "text": [
            "5 \n",
            " <class 'int'>\n"
          ]
        }
      ]
    },
    {
      "cell_type": "markdown",
      "source": [
        "## Vector\n",
        "vectors is collection of scalars\n",
        "### **1 x n-scalars**"
      ],
      "metadata": {
        "id": "DcwRprBfjkq6"
      }
    },
    {
      "cell_type": "code",
      "execution_count": 13,
      "metadata": {
        "colab": {
          "base_uri": "https://localhost:8080/"
        },
        "id": "CPnyZsJvjOFS",
        "outputId": "b409257f-f3b2-4724-827e-bc745bc83c24"
      },
      "outputs": [
        {
          "output_type": "stream",
          "name": "stdout",
          "text": [
            "[2 3 4] \n",
            " <class 'numpy.ndarray'> \n",
            " (3,)\n"
          ]
        }
      ],
      "source": [
        "\n",
        "import numpy as np\n",
        "v = np.array([2,3,4])\n",
        "print(v,'\\n',\n",
        "      type(v),'\\n',\n",
        "      v.shape)"
      ]
    },
    {
      "cell_type": "markdown",
      "source": [
        "## Matrices\n",
        "Matrices is collection of vectors\n",
        "### ***n-vectors x n-vectors***"
      ],
      "metadata": {
        "id": "hj8BtZ-okqu2"
      }
    },
    {
      "cell_type": "code",
      "source": [
        "import numpy as np\n",
        "m = np.array([[2,1,4],[3,1,6]])\n",
        "print (m, '\\n',\n",
        "       type(m),'\\n',\n",
        "       m.shape)"
      ],
      "metadata": {
        "colab": {
          "base_uri": "https://localhost:8080/"
        },
        "id": "9VcsKwIwk0xn",
        "outputId": "4d83e93f-ba6e-4729-a085-32b00ce4d544"
      },
      "execution_count": 14,
      "outputs": [
        {
          "output_type": "stream",
          "name": "stdout",
          "text": [
            "[[2 1 4]\n",
            " [3 1 6]] \n",
            " <class 'numpy.ndarray'> \n",
            " (2, 3)\n"
          ]
        }
      ]
    },
    {
      "cell_type": "markdown",
      "source": [
        "## Tensors\n",
        "Tensor is collection of matrices\n",
        "### ***n-matrices x n-matrices***"
      ],
      "metadata": {
        "id": "fRU26jGjmFRv"
      }
    },
    {
      "cell_type": "code",
      "source": [
        "import numpy as np\n",
        "#creating a tensor\n",
        "m1 = np.array([[3,1,6],[2,4,5]])\n",
        "m2 = np.array([[2,5,2],[5,4,2]])\n",
        "tensor = np.array([m1, m2])\n",
        "print(tensor,'\\n',\n",
        "      'Shape = ',tensor.shape)\n",
        "#creating tensor manually\n",
        "tManual= np.array([[[2,1,3],[3,4,5]],[[5,2,3],[3,4,0]]])\n",
        "print(tManual,'\\n',\n",
        "    'Shape = ',tManual.shape)"
      ],
      "metadata": {
        "colab": {
          "base_uri": "https://localhost:8080/"
        },
        "id": "-1Ahv5HHqUmM",
        "outputId": "1be71d70-fa27-401e-d6af-8288bd48503e"
      },
      "execution_count": 26,
      "outputs": [
        {
          "output_type": "stream",
          "name": "stdout",
          "text": [
            "[[[3 1 6]\n",
            "  [2 4 5]]\n",
            "\n",
            " [[2 5 2]\n",
            "  [5 4 2]]] \n",
            " Shape =  (2, 2, 3)\n",
            "[[[2 1 3]\n",
            "  [3 4 5]]\n",
            "\n",
            " [[5 2 3]\n",
            "  [3 4 0]]] \n",
            " Shape =  (2, 2, 3)\n"
          ]
        }
      ]
    }
  ]
}